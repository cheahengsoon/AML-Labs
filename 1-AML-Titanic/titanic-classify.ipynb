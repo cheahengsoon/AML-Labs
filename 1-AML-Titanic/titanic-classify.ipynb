{
 "cells": [
  {
   "cell_type": "code",
   "execution_count": 1,
   "metadata": {
    "collapsed": true
   },
   "outputs": [],
   "source": [
    "# Use Azure Machine Learning history magic to control history collection\n",
    "# History is off by default, options are \"on\", \"off\", or \"show\"\n",
    "# %azureml history on"
   ]
  },
  {
   "cell_type": "code",
   "execution_count": 2,
   "metadata": {
    "collapsed": true
   },
   "outputs": [],
   "source": [
    "import requests\n",
    "import json"
   ]
  },
  {
   "cell_type": "code",
   "execution_count": 3,
   "metadata": {
    "collapsed": true
   },
   "outputs": [],
   "source": [
    "web_service_url = \"YOUR WEB SERVICE URL HERE, e.g.: http://awesomecontainer.azurewebsites.net\""
   ]
  },
  {
   "cell_type": "code",
   "execution_count": 4,
   "metadata": {
    "collapsed": true
   },
   "outputs": [],
   "source": [
    "def get_result_local(data):\n",
    "    body = str.encode(json.dumps(data))\n",
    "\n",
    "    url = '{}/score'.format(web_service_url)\n",
    "    \n",
    "    # api_key = 'your service key' \n",
    "    headers = {'Content-Type':'application/json'}\n",
    "\n",
    "    resp = requests.post(url, data, headers=headers)\n",
    "    return resp.text"
   ]
  },
  {
   "cell_type": "markdown",
   "metadata": {},
   "source": [
    "| Variable | Definition | Type |\n",
    "| ------------- |-------------| -----|\n",
    "| pclass | Ticket class |  Decimal, 1 = 1st, 2 = 2nd, 3 = 3rd |\n",
    "| sex | Gender | Male 0 or Female 1 as int |\n",
    "| Age | Age in years | Decimal |\n",
    "| sibsp | # of siblings / spouses aboard the Titanic | Decimal|\n",
    "| parch | # of parents / children aboard the Titanic | Decimal|\n",
    "| fare | Passenger Fare (in Dollars) | Decimal |"
   ]
  },
  {
   "cell_type": "code",
   "execution_count": 12,
   "metadata": {
    "collapsed": true
   },
   "outputs": [],
   "source": [
    "pclass = 1\n",
    "sibsp = 1\n",
    "age = 29\n",
    "fare = 200\n",
    "sex = 1\n",
    "parch = 0\n",
    "\n",
    "data = { \"input_df\": [\n",
    "    {\n",
    "        \"pclass\": pclass,\n",
    "        \"sibsp\": sibsp,\n",
    "        \"age\": age,\n",
    "        \"fare\": fare,\n",
    "        \"sex\": sex,\n",
    "        \"parch\": parch\n",
    "    }\n",
    "]}\n",
    "\n",
    "body = str.encode(json.dumps(data))"
   ]
  },
  {
   "cell_type": "code",
   "execution_count": 13,
   "metadata": {
    "collapsed": false
   },
   "outputs": [
    {
     "data": {
      "text/plain": [
       "'\"\\\\\"1.0\\\\\"\"'"
      ]
     },
     "execution_count": 13,
     "metadata": {},
     "output_type": "execute_result"
    }
   ],
   "source": [
    "get_result_local(json.dumps(data))"
   ]
  },
  {
   "cell_type": "code",
   "execution_count": null,
   "metadata": {
    "collapsed": true
   },
   "outputs": [],
   "source": []
  }
 ],
 "metadata": {
  "anaconda-cloud": {},
  "kernelspec": {
   "display_name": "Python [default]",
   "language": "python",
   "name": "python3"
  },
  "language_info": {
   "codemirror_mode": {
    "name": "ipython",
    "version": 3
   },
   "file_extension": ".py",
   "mimetype": "text/x-python",
   "name": "python",
   "nbconvert_exporter": "python",
   "pygments_lexer": "ipython3",
   "version": "3.5.2"
  }
 },
 "nbformat": 4,
 "nbformat_minor": 2
}
